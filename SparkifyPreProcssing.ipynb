{
 "cells": [
  {
   "cell_type": "code",
   "execution_count": 1,
   "id": "749387cd",
   "metadata": {},
   "outputs": [
    {
     "data": {
      "application/vnd.jupyter.widget-view+json": {
       "model_id": "ca729467697c41349d00835437d142cd",
       "version_major": 2,
       "version_minor": 0
      },
      "text/plain": [
       "VBox()"
      ]
     },
     "metadata": {},
     "output_type": "display_data"
    },
    {
     "name": "stdout",
     "output_type": "stream",
     "text": [
      "Starting Spark application\n"
     ]
    },
    {
     "data": {
      "text/html": [
       "<table>\n",
       "<tr><th>ID</th><th>YARN Application ID</th><th>Kind</th><th>State</th><th>Spark UI</th><th>Driver log</th><th>Current session?</th></tr><tr><td>1</td><td>application_1641044395554_0002</td><td>pyspark</td><td>idle</td><td><a target=\"_blank\" href=\"http://ip-172-31-38-139.us-east-2.compute.internal:20888/proxy/application_1641044395554_0002/\">Link</a></td><td><a target=\"_blank\" href=\"http://ip-172-31-40-93.us-east-2.compute.internal:8042/node/containerlogs/container_1641044395554_0002_01_000001/livy\">Link</a></td><td>✔</td></tr></table>"
      ],
      "text/plain": [
       "<IPython.core.display.HTML object>"
      ]
     },
     "metadata": {},
     "output_type": "display_data"
    },
    {
     "data": {
      "application/vnd.jupyter.widget-view+json": {
       "model_id": "",
       "version_major": 2,
       "version_minor": 0
      },
      "text/plain": [
       "FloatProgress(value=0.0, bar_style='info', description='Progress:', layout=Layout(height='25px', width='50%'),…"
      ]
     },
     "metadata": {},
     "output_type": "display_data"
    },
    {
     "name": "stdout",
     "output_type": "stream",
     "text": [
      "SparkSession available as 'spark'.\n"
     ]
    },
    {
     "data": {
      "application/vnd.jupyter.widget-view+json": {
       "model_id": "",
       "version_major": 2,
       "version_minor": 0
      },
      "text/plain": [
       "FloatProgress(value=0.0, bar_style='info', description='Progress:', layout=Layout(height='25px', width='50%'),…"
      ]
     },
     "metadata": {},
     "output_type": "display_data"
    },
    {
     "name": "stdout",
     "output_type": "stream",
     "text": [
      "Row(artist='Popol Vuh', auth='Logged In', firstName='Shlok', gender='M', itemInSession=278, lastName='Johnson', length=524.32934, level='paid', location='Dallas-Fort Worth-Arlington, TX', method='PUT', page='NextSong', registration=1533734541000, sessionId=22683, song='Ich mache einen Spiegel - Dream Part 4', status=200, ts=1538352001000, userAgent='\"Mozilla/5.0 (Windows NT 6.1; WOW64) AppleWebKit/537.36 (KHTML, like Gecko) Chrome/36.0.1985.143 Safari/537.36\"', userId='1749042')"
     ]
    }
   ],
   "source": [
    "# import libraries\n",
    "import numpy as np\n",
    "from time import time\n",
    "\n",
    "from pyspark.sql import SparkSession, Window\n",
    "from pyspark.sql.functions import *\n",
    "from pyspark.sql.types import IntegerType\n",
    "\n",
    "from pyspark.ml.stat import Correlation\n",
    "from pyspark.ml.feature import MinMaxScaler, VectorAssembler\n",
    "from pyspark.ml import Pipeline\n",
    "from pyspark.ml.classification import LogisticRegression, RandomForestClassifier, GBTClassifier \n",
    "from pyspark.ml.tuning import CrossValidator, ParamGridBuilder\n",
    "from pyspark.ml.evaluation import BinaryClassificationEvaluator\n",
    "from pyspark.mllib.evaluation import MulticlassMetrics\n",
    "\n",
    "import warnings\n",
    "warnings.filterwarnings(\"ignore\")\n",
    "\n",
    "\n",
    "# Create spark session\n",
    "spark = SparkSession \\\n",
    "    .builder \\\n",
    "    .appName(\"Sparkify\") \\\n",
    "    .getOrCreate()\n",
    "\n",
    "# Read in full sparkify dataset\n",
    "event_data = \"s3n://udacity-dsnd/sparkify/sparkify_event_data.json\"\n",
    "df = spark.read.json(event_data)\n",
    "\n",
    "df.head()"
   ]
  },
  {
   "cell_type": "code",
   "execution_count": 2,
   "id": "312b5723",
   "metadata": {},
   "outputs": [
    {
     "data": {
      "application/vnd.jupyter.widget-view+json": {
       "model_id": "5ba41ff135134663a430367e02059933",
       "version_major": 2,
       "version_minor": 0
      },
      "text/plain": [
       "VBox()"
      ]
     },
     "metadata": {},
     "output_type": "display_data"
    },
    {
     "data": {
      "application/vnd.jupyter.widget-view+json": {
       "model_id": "",
       "version_major": 2,
       "version_minor": 0
      },
      "text/plain": [
       "FloatProgress(value=0.0, bar_style='info', description='Progress:', layout=Layout(height='25px', width='50%'),…"
      ]
     },
     "metadata": {},
     "output_type": "display_data"
    },
    {
     "name": "stdout",
     "output_type": "stream",
     "text": [
      "root\n",
      " |-- artist: string (nullable = true)\n",
      " |-- auth: string (nullable = true)\n",
      " |-- firstName: string (nullable = true)\n",
      " |-- gender: string (nullable = true)\n",
      " |-- itemInSession: long (nullable = true)\n",
      " |-- lastName: string (nullable = true)\n",
      " |-- length: double (nullable = true)\n",
      " |-- level: string (nullable = true)\n",
      " |-- location: string (nullable = true)\n",
      " |-- method: string (nullable = true)\n",
      " |-- page: string (nullable = true)\n",
      " |-- registration: long (nullable = true)\n",
      " |-- sessionId: long (nullable = true)\n",
      " |-- song: string (nullable = true)\n",
      " |-- status: long (nullable = true)\n",
      " |-- ts: long (nullable = true)\n",
      " |-- userAgent: string (nullable = true)\n",
      " |-- userId: string (nullable = true)"
     ]
    }
   ],
   "source": [
    "df.printSchema()"
   ]
  },
  {
   "cell_type": "code",
   "execution_count": 3,
   "id": "02567bd0",
   "metadata": {},
   "outputs": [
    {
     "data": {
      "application/vnd.jupyter.widget-view+json": {
       "model_id": "1e37fa26535240f5ad848886c1a30b3a",
       "version_major": 2,
       "version_minor": 0
      },
      "text/plain": [
       "VBox()"
      ]
     },
     "metadata": {},
     "output_type": "display_data"
    },
    {
     "data": {
      "application/vnd.jupyter.widget-view+json": {
       "model_id": "",
       "version_major": 2,
       "version_minor": 0
      },
      "text/plain": [
       "FloatProgress(value=0.0, bar_style='info', description='Progress:', layout=Layout(height='25px', width='50%'),…"
      ]
     },
     "metadata": {},
     "output_type": "display_data"
    },
    {
     "name": "stdout",
     "output_type": "stream",
     "text": [
      "The dataset has 26259199 rows."
     ]
    }
   ],
   "source": [
    "#No of sessions\n",
    "print('The dataset has {} rows.'.format(df.count()))"
   ]
  },
  {
   "cell_type": "code",
   "execution_count": 4,
   "id": "3ec5a125",
   "metadata": {},
   "outputs": [
    {
     "data": {
      "application/vnd.jupyter.widget-view+json": {
       "model_id": "bce8906a72d346fda8b8396c86a39ebe",
       "version_major": 2,
       "version_minor": 0
      },
      "text/plain": [
       "VBox()"
      ]
     },
     "metadata": {},
     "output_type": "display_data"
    },
    {
     "data": {
      "application/vnd.jupyter.widget-view+json": {
       "model_id": "",
       "version_major": 2,
       "version_minor": 0
      },
      "text/plain": [
       "FloatProgress(value=0.0, bar_style='info', description='Progress:', layout=Layout(height='25px', width='50%'),…"
      ]
     },
     "metadata": {},
     "output_type": "display_data"
    },
    {
     "name": "stdout",
     "output_type": "stream",
     "text": [
      "+-------------------+\n",
      "|         Start time|\n",
      "+-------------------+\n",
      "|2018-10-01 00:00:01|\n",
      "+-------------------+\n",
      "\n",
      "+-------------------+\n",
      "|           End time|\n",
      "+-------------------+\n",
      "|2018-12-01 00:00:02|\n",
      "+-------------------+"
     ]
    }
   ],
   "source": [
    "#Start time\n",
    "df.select(min(to_timestamp(col('ts')/1000)).alias('Start time')).show()\n",
    "#End time\n",
    "df.select(max(to_timestamp(col('ts')/1000)).alias('End time')).show()"
   ]
  },
  {
   "cell_type": "code",
   "execution_count": 5,
   "id": "6d60e37a",
   "metadata": {},
   "outputs": [
    {
     "data": {
      "application/vnd.jupyter.widget-view+json": {
       "model_id": "56530399ba9944bba8ff68748fc13aa6",
       "version_major": 2,
       "version_minor": 0
      },
      "text/plain": [
       "VBox()"
      ]
     },
     "metadata": {},
     "output_type": "display_data"
    },
    {
     "data": {
      "application/vnd.jupyter.widget-view+json": {
       "model_id": "",
       "version_major": 2,
       "version_minor": 0
      },
      "text/plain": [
       "FloatProgress(value=0.0, bar_style='info', description='Progress:', layout=Layout(height='25px', width='50%'),…"
      ]
     },
     "metadata": {},
     "output_type": "display_data"
    },
    {
     "name": "stdout",
     "output_type": "stream",
     "text": [
      "The dataset has 778479 rows with Null registration.\n",
      "The dataset has 0 rows with Null userIds.\n",
      "Row(artist='Popol Vuh', auth='Logged In', firstName='Shlok', gender='M', itemInSession=278, lastName='Johnson', length=524.32934, level='paid', location='Dallas-Fort Worth-Arlington, TX', method='PUT', page='NextSong', registration=1533734541000, sessionId=22683, song='Ich mache einen Spiegel - Dream Part 4', status=200, ts=1538352001000, userAgent='\"Mozilla/5.0 (Windows NT 6.1; WOW64) AppleWebKit/537.36 (KHTML, like Gecko) Chrome/36.0.1985.143 Safari/537.36\"', userId='1749042')"
     ]
    }
   ],
   "source": [
    "def clean_session_data(df):\n",
    "    \"\"\"Clean a Sparkify dataset with null values removed in regsitration id and user id\n",
    "        Args:\n",
    "        df: (spark dataframe) a Sparkify dataset\n",
    "         Returns:\n",
    "         df: (spark dataframe) a preprocessed Sparkify dataset\n",
    "     \"\"\"\n",
    "    \n",
    "    print('The dataset has {} rows with Null registration.'.format(df.filter((df[\"registration\"] == \"\") | df[\"registration\"].isNull() | isnan(df[\"registration\"])).count()\n",
    "))\n",
    "    \n",
    "       \n",
    "    df=df.filter(df['registration'].isNotNull())\n",
    "    \n",
    "    print('The dataset has {} rows with Null userIds.'.format(df.filter((df[\"userId\"] == \"\") | df[\"userId\"].isNull() | isnan(df[\"userId\"])).count()\n",
    "))    \n",
    "    df=df.filter(df['userId'].isNotNull())\n",
    "    \n",
    "    \n",
    "    \n",
    "    #convert timestamps to date \n",
    "    #df=df.withColumn('registrationTime',to_timestamp(col('registration')/1000))\\\n",
    "    #     .withColumn('time',to_timestamp(col('ts')/1000))\n",
    "    \n",
    "    \n",
    "    return df  \n",
    "\n",
    "df = clean_session_data(df)\n",
    "df.head()\n"
   ]
  },
  {
   "cell_type": "code",
   "execution_count": 6,
   "id": "49f8010b",
   "metadata": {},
   "outputs": [
    {
     "data": {
      "application/vnd.jupyter.widget-view+json": {
       "model_id": "d1dc785ea4ef476b99db43e643bb6a2a",
       "version_major": 2,
       "version_minor": 0
      },
      "text/plain": [
       "VBox()"
      ]
     },
     "metadata": {},
     "output_type": "display_data"
    },
    {
     "data": {
      "application/vnd.jupyter.widget-view+json": {
       "model_id": "",
       "version_major": 2,
       "version_minor": 0
      },
      "text/plain": [
       "FloatProgress(value=0.0, bar_style='info', description='Progress:', layout=Layout(height='25px', width='50%'),…"
      ]
     },
     "metadata": {},
     "output_type": "display_data"
    }
   ],
   "source": [
    "def add_churn(df,label='Churn'):\n",
    "    \"\"\"Add Churn data\n",
    "    Args:\n",
    "    df: (spark dataframe) a Sparkify dataset\n",
    "    Returns:\n",
    "    df: (spark dataframe) a preprocessed Sparkify dataset with label 'churn'\n",
    "    \"\"\"\n",
    "    userWindow = Window.partitionBy('userId').orderBy('ts').\\\n",
    "                  rangeBetween(Window.unboundedPreceding,Window.unboundedFollowing)\n",
    "    df=df.withColumn(label,when(col('page')=='Cancellation Confirmation',1).\\\n",
    "                     otherwise(0)).withColumn(label,max(label).over(userWindow))\n",
    "    return df\n",
    "df = add_churn(df)"
   ]
  },
  {
   "cell_type": "code",
   "execution_count": 7,
   "id": "b9b91352",
   "metadata": {},
   "outputs": [
    {
     "data": {
      "application/vnd.jupyter.widget-view+json": {
       "model_id": "d33188fcfb5d4e368a44ebabecb8078d",
       "version_major": 2,
       "version_minor": 0
      },
      "text/plain": [
       "VBox()"
      ]
     },
     "metadata": {},
     "output_type": "display_data"
    },
    {
     "data": {
      "application/vnd.jupyter.widget-view+json": {
       "model_id": "",
       "version_major": 2,
       "version_minor": 0
      },
      "text/plain": [
       "FloatProgress(value=0.0, bar_style='info', description='Progress:', layout=Layout(height='25px', width='50%'),…"
      ]
     },
     "metadata": {},
     "output_type": "display_data"
    },
    {
     "name": "stdout",
     "output_type": "stream",
     "text": [
      "+-----+-----+\n",
      "|Churn|count|\n",
      "+-----+-----+\n",
      "|    1| 5003|\n",
      "|    0|17274|\n",
      "+-----+-----+"
     ]
    }
   ],
   "source": [
    "df.dropDuplicates(['userId']).groupby('Churn').count().show()"
   ]
  },
  {
   "cell_type": "code",
   "execution_count": 8,
   "id": "da07f633",
   "metadata": {},
   "outputs": [
    {
     "data": {
      "application/vnd.jupyter.widget-view+json": {
       "model_id": "014a035daf5143e097ed42a35f4cd765",
       "version_major": 2,
       "version_minor": 0
      },
      "text/plain": [
       "VBox()"
      ]
     },
     "metadata": {},
     "output_type": "display_data"
    },
    {
     "data": {
      "application/vnd.jupyter.widget-view+json": {
       "model_id": "",
       "version_major": 2,
       "version_minor": 0
      },
      "text/plain": [
       "FloatProgress(value=0.0, bar_style='info', description='Progress:', layout=Layout(height='25px', width='50%'),…"
      ]
     },
     "metadata": {},
     "output_type": "display_data"
    },
    {
     "name": "stdout",
     "output_type": "stream",
     "text": [
      "[Row(userId='1000280', Churn=1, obsDays=43.95814814814815, nSongs=1022, nThumbsUp=53, nThumbsDown=33, nUpgrade=10, nDowngrade=4, nAddFriend=14, nAddPlaylist=25, nAdvert=74, nHelp=8, nError=3, registDuration=41.946678240740745, avgSessionDuration=3.2484343434343432, avgDailySongs=23.24938704323136, avgDailyThumbsUp=1.205692283063857, avgDailyThumbsDown=0.7507140630397601, avgDailyUpgrade=0.2274891100120485, avgDailyDowngrade=0.0909956440048194, avgDailyAddFriend=0.3184847540168679, avgDailyAddPlaylist=0.5687227750301213, avgDailyAdvert=1.683419414089159, avgDailyHelp=0.1819912880096388, avgDailyError=0.06824673300361456)]"
     ]
    }
   ],
   "source": [
    "def build_features(df, label='Churn'):\n",
    "    \"\"\"Build features to be used for modeling\n",
    "    \n",
    "    Args:\n",
    "    df: (spark dataframe) a cleaned and labeled Sparkify dataset\n",
    "    label: (string) label name\n",
    "    \n",
    "    Returns:\n",
    "    user_df: (spark dataframe) a labeled dataset with features of interest grouped by user ids\n",
    "    \"\"\"\n",
    "    userWindow = Window.partitionBy('userId').orderBy('ts').rangeBetween(Window.unboundedPreceding,Window.unboundedFollowing)\n",
    "    \n",
    "    # calculate the duration between registration to last activity (in days)\n",
    "    regist_duration_df = df.groupBy('userId') \\\n",
    "        .agg(((last(col('ts'))-last(col('registration')))/1000/3600/24).alias('registDuration'))\n",
    "\n",
    "    # compute average session duration (in hours)\n",
    "    avg_session_duration_df = df \\\n",
    "        .groupBy(['userId', 'sessionId']).agg(min(col('ts')).alias('session_start'), max(col('ts')).alias('session_end'))\\\n",
    "        .groupBy('userId').agg(avg((col('session_end') - col('session_start'))/1000/3600).alias('avgSessionDuration'))\n",
    "\n",
    "    # define the default start and end of the observation period\n",
    "    obs_start_default = df.select(min(col('ts'))).collect()[0][0]\n",
    "    obs_end_default = df.select(max(col('ts'))).collect()[0][0]\n",
    "\n",
    "    # compute the observation period\n",
    "    df = df \\\n",
    "        .withColumn('obs_start', when(col('registration') > obs_start_default, first(col('ts')).over(userWindow)) \\\n",
    "                    .otherwise(obs_start_default)) \\\n",
    "        .withColumn('end_state', last(col('page')).over(userWindow)) \\\n",
    "        .withColumn('obs_end', when(col('end_state') == 'Cancellation Confirmation', last(col('ts')).over(userWindow)) \\\n",
    "                    .otherwise(obs_end_default)) \\\n",
    "        .withColumn('obsDays', (col('obs_end') - col('obs_start'))/1000/3600/24)\n",
    "\n",
    "    # aggregate activity statistics\n",
    "    user_df = df.groupBy('userId') \\\n",
    "        .agg(first(col(label)).alias(label), \\\n",
    "             first(col('obsDays')).alias('obsDays'), \\\n",
    "             sum(when(col('page') == 'NextSong', 1).otherwise(0)).alias('nSongs'), \\\n",
    "             sum(when(col('page') == 'Thumbs Up', 1).otherwise(0)).alias('nThumbsUp'), \\\n",
    "             sum(when(col('page') == 'Thumbs Down', 1).otherwise(0)).alias('nThumbsDown'), \\\n",
    "             sum(when((col('page') == 'Upgrade') | (col('page') == 'Submit Upgrade'), 1) \\\n",
    "                 .otherwise(0)).alias('nUpgrade'), \\\n",
    "             sum(when((col('page') == 'Downgrade') | (col('page') == 'Submit Downgrade'), 1) \\\n",
    "                 .otherwise(0)).alias('nDowngrade'), \\\n",
    "             sum(when(col('page') == 'Add Friend', 1).otherwise(0)).alias('nAddFriend'), \\\n",
    "             sum(when(col('page') == 'Add to Playlist', 1).otherwise(0)).alias(\"nAddPlaylist\"), \\\n",
    "             sum(when(col('page') == 'Roll Advert', 1).otherwise(0)).alias('nAdvert'), \\\n",
    "             sum(when((col('page') == 'Help'), 1).otherwise(0)).alias('nHelp'), \\\n",
    "             sum(when((col('page') == 'Error'), 1).otherwise(0)).alias('nError')) \\\n",
    "        .join(regist_duration_df, on='userId') \\\n",
    "        .join(avg_session_duration_df, on='userId')\n",
    "\n",
    "    user_df = user_df \\\n",
    "        .withColumn('avgDailySongs', col('nSongs') / col('obsDays')) \\\n",
    "        .withColumn('avgDailyThumbsUp', col('nThumbsUp') / col('obsDays')) \\\n",
    "        .withColumn('avgDailyThumbsDown', col('nThumbsDown') / col('obsDays')) \\\n",
    "        .withColumn('avgDailyUpgrade', col('nUpgrade') / col('obsDays')) \\\n",
    "        .withColumn('avgDailyDowngrade', col('nDowngrade') / col('obsDays')) \\\n",
    "        .withColumn('avgDailyAddFriend', col('nAddFriend') / col('obsDays')) \\\n",
    "        .withColumn('avgDailyAddPlaylist', col('nAddPlaylist') / col('obsDays')) \\\n",
    "        .withColumn('avgDailyAdvert', col('nAdvert') / col('obsDays')) \\\n",
    "        .withColumn('avgDailyHelp', col('nHelp') / col('obsDays')) \\\n",
    "        .withColumn('avgDailyError', col('nError') / col('obsDays')) \\\n",
    "        #.drop('userId', 'obsDays', 'nSongs', 'nThumbsUp', 'nThumbsDown', 'nUpgrade', 'nDowngrade', \\\n",
    "        #      'nAddFriend', 'nAddPlaylist', 'nAdvert', 'nHelp', 'nError')\n",
    "    \n",
    "    return user_df\n",
    "user_df = build_features(df)\n",
    "user_df.head(1)"
   ]
  },
  {
   "cell_type": "code",
   "execution_count": 9,
   "id": "05811640",
   "metadata": {},
   "outputs": [
    {
     "data": {
      "application/vnd.jupyter.widget-view+json": {
       "model_id": "201c4cff09e240b8af2a247c9ef545c9",
       "version_major": 2,
       "version_minor": 0
      },
      "text/plain": [
       "VBox()"
      ]
     },
     "metadata": {},
     "output_type": "display_data"
    },
    {
     "data": {
      "application/vnd.jupyter.widget-view+json": {
       "model_id": "",
       "version_major": 2,
       "version_minor": 0
      },
      "text/plain": [
       "FloatProgress(value=0.0, bar_style='info', description='Progress:', layout=Layout(height='25px', width='50%'),…"
      ]
     },
     "metadata": {},
     "output_type": "display_data"
    },
    {
     "name": "stdout",
     "output_type": "stream",
     "text": [
      "root\n",
      " |-- userId: string (nullable = true)\n",
      " |-- Churn: integer (nullable = true)\n",
      " |-- obsDays: double (nullable = true)\n",
      " |-- nSongs: long (nullable = true)\n",
      " |-- nThumbsUp: long (nullable = true)\n",
      " |-- nThumbsDown: long (nullable = true)\n",
      " |-- nUpgrade: long (nullable = true)\n",
      " |-- nDowngrade: long (nullable = true)\n",
      " |-- nAddFriend: long (nullable = true)\n",
      " |-- nAddPlaylist: long (nullable = true)\n",
      " |-- nAdvert: long (nullable = true)\n",
      " |-- nHelp: long (nullable = true)\n",
      " |-- nError: long (nullable = true)\n",
      " |-- registDuration: double (nullable = true)\n",
      " |-- avgSessionDuration: double (nullable = true)\n",
      " |-- avgDailySongs: double (nullable = true)\n",
      " |-- avgDailyThumbsUp: double (nullable = true)\n",
      " |-- avgDailyThumbsDown: double (nullable = true)\n",
      " |-- avgDailyUpgrade: double (nullable = true)\n",
      " |-- avgDailyDowngrade: double (nullable = true)\n",
      " |-- avgDailyAddFriend: double (nullable = true)\n",
      " |-- avgDailyAddPlaylist: double (nullable = true)\n",
      " |-- avgDailyAdvert: double (nullable = true)\n",
      " |-- avgDailyHelp: double (nullable = true)\n",
      " |-- avgDailyError: double (nullable = true)"
     ]
    }
   ],
   "source": [
    "user_df.printSchema()"
   ]
  },
  {
   "cell_type": "markdown",
   "id": "9a89a211",
   "metadata": {},
   "source": [
    "user_df.groupby('Churn').count().show()"
   ]
  },
  {
   "cell_type": "code",
   "execution_count": 11,
   "id": "1632c9ea",
   "metadata": {},
   "outputs": [
    {
     "data": {
      "application/vnd.jupyter.widget-view+json": {
       "model_id": "063c7e57f4b24b15a11263ef5024723b",
       "version_major": 2,
       "version_minor": 0
      },
      "text/plain": [
       "VBox()"
      ]
     },
     "metadata": {},
     "output_type": "display_data"
    },
    {
     "data": {
      "application/vnd.jupyter.widget-view+json": {
       "model_id": "",
       "version_major": 2,
       "version_minor": 0
      },
      "text/plain": [
       "FloatProgress(value=0.0, bar_style='info', description='Progress:', layout=Layout(height='25px', width='50%'),…"
      ]
     },
     "metadata": {},
     "output_type": "display_data"
    },
    {
     "name": "stdout",
     "output_type": "stream",
     "text": [
      "[Row(userId='1000280', Churn=1, obsDays=43.95814814814815, nSongs=1022, nThumbsUp=53, nThumbsDown=33, nUpgrade=10, nDowngrade=4, nAddFriend=14, nAddPlaylist=25, nAdvert=74, nHelp=8, nError=3, registDuration=41.946678240740745, avgSessionDuration=3.248434343434344, avgDailySongs=23.24938704323136, avgDailyThumbsUp=1.205692283063857, avgDailyThumbsDown=0.7507140630397601, avgDailyUpgrade=0.2274891100120485, avgDailyDowngrade=0.0909956440048194, avgDailyAddFriend=0.3184847540168679, avgDailyAddPlaylist=0.5687227750301213, avgDailyAdvert=1.683419414089159, avgDailyHelp=0.1819912880096388, avgDailyError=0.06824673300361456)]"
     ]
    }
   ],
   "source": [
    "user_df.head(1)"
   ]
  },
  {
   "cell_type": "code",
   "execution_count": 12,
   "id": "4d04cb84",
   "metadata": {},
   "outputs": [
    {
     "data": {
      "application/vnd.jupyter.widget-view+json": {
       "model_id": "1a0ffdceebdc4862bf38ac7b71ebbb43",
       "version_major": 2,
       "version_minor": 0
      },
      "text/plain": [
       "VBox()"
      ]
     },
     "metadata": {},
     "output_type": "display_data"
    },
    {
     "data": {
      "application/vnd.jupyter.widget-view+json": {
       "model_id": "",
       "version_major": 2,
       "version_minor": 0
      },
      "text/plain": [
       "FloatProgress(value=0.0, bar_style='info', description='Progress:', layout=Layout(height='25px', width='50%'),…"
      ]
     },
     "metadata": {},
     "output_type": "display_data"
    },
    {
     "name": "stdout",
     "output_type": "stream",
     "text": [
      "The dataset has 22277 users."
     ]
    }
   ],
   "source": [
    "#No of users\n",
    "print('The dataset has {} users.'.format(user_df.count()))"
   ]
  },
  {
   "cell_type": "code",
   "execution_count": 13,
   "id": "cec00d4a",
   "metadata": {},
   "outputs": [
    {
     "data": {
      "application/vnd.jupyter.widget-view+json": {
       "model_id": "d7d057bcd71b4d2f908c6c1afff549d0",
       "version_major": 2,
       "version_minor": 0
      },
      "text/plain": [
       "VBox()"
      ]
     },
     "metadata": {},
     "output_type": "display_data"
    },
    {
     "data": {
      "application/vnd.jupyter.widget-view+json": {
       "model_id": "",
       "version_major": 2,
       "version_minor": 0
      },
      "text/plain": [
       "FloatProgress(value=0.0, bar_style='info', description='Progress:', layout=Layout(height='25px', width='50%'),…"
      ]
     },
     "metadata": {},
     "output_type": "display_data"
    }
   ],
   "source": [
    "user_df.coalesce(1).write.csv(\"s3a://aws-emr-resources-693516134661-us-east-2/notebooks/sparkify_users.csv\",mode=\"overwrite\",header='true')"
   ]
  }
 ],
 "metadata": {
  "kernelspec": {
   "display_name": "PySpark",
   "language": "",
   "name": "pysparkkernel"
  },
  "language_info": {
   "codemirror_mode": {
    "name": "python",
    "version": 2
   },
   "mimetype": "text/x-python",
   "name": "pyspark",
   "pygments_lexer": "python2"
  }
 },
 "nbformat": 4,
 "nbformat_minor": 5
}
