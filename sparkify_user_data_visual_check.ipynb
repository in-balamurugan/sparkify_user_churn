{
 "cells": [
  {
   "cell_type": "code",
   "execution_count": 1,
   "id": "1b5b87f6",
   "metadata": {
    "execution": {
     "iopub.execute_input": "2022-01-02T05:07:07.945458Z",
     "iopub.status.busy": "2022-01-02T05:07:07.944311Z",
     "iopub.status.idle": "2022-01-02T05:07:07.954831Z",
     "shell.execute_reply": "2022-01-02T05:07:07.955579Z"
    },
    "papermill": {
     "duration": 0.026509,
     "end_time": "2022-01-02T05:07:07.955893",
     "exception": false,
     "start_time": "2022-01-02T05:07:07.929384",
     "status": "completed"
    },
    "tags": []
   },
   "outputs": [],
   "source": [
    "#libararies\n",
    "import pandas as pd"
   ]
  },
  {
   "cell_type": "code",
   "execution_count": 2,
   "id": "11b383ec",
   "metadata": {
    "execution": {
     "iopub.execute_input": "2022-01-02T05:07:07.981131Z",
     "iopub.status.busy": "2022-01-02T05:07:07.980515Z",
     "iopub.status.idle": "2022-01-02T05:07:07.983508Z",
     "shell.execute_reply": "2022-01-02T05:07:07.984096Z",
     "shell.execute_reply.started": "2022-01-02T04:30:19.284087Z"
    },
    "papermill": {
     "duration": 0.017124,
     "end_time": "2022-01-02T05:07:07.984263",
     "exception": false,
     "start_time": "2022-01-02T05:07:07.967139",
     "status": "completed"
    },
    "tags": []
   },
   "outputs": [],
   "source": [
    "#COnfig\n",
    "INPUT_FIlE= '/kaggle/input/sparkify-users/Sparkify_users.csv'"
   ]
  },
  {
   "cell_type": "code",
   "execution_count": 3,
   "id": "84b894b7",
   "metadata": {
    "execution": {
     "iopub.execute_input": "2022-01-02T05:07:08.008733Z",
     "iopub.status.busy": "2022-01-02T05:07:08.008126Z",
     "iopub.status.idle": "2022-01-02T05:07:08.241441Z",
     "shell.execute_reply": "2022-01-02T05:07:08.240195Z",
     "shell.execute_reply.started": "2022-01-02T04:31:21.063332Z"
    },
    "papermill": {
     "duration": 0.246522,
     "end_time": "2022-01-02T05:07:08.241631",
     "exception": false,
     "start_time": "2022-01-02T05:07:07.995109",
     "status": "completed"
    },
    "tags": []
   },
   "outputs": [
    {
     "data": {
      "text/html": [
       "<div>\n",
       "<style scoped>\n",
       "    .dataframe tbody tr th:only-of-type {\n",
       "        vertical-align: middle;\n",
       "    }\n",
       "\n",
       "    .dataframe tbody tr th {\n",
       "        vertical-align: top;\n",
       "    }\n",
       "\n",
       "    .dataframe thead th {\n",
       "        text-align: right;\n",
       "    }\n",
       "</style>\n",
       "<table border=\"1\" class=\"dataframe\">\n",
       "  <thead>\n",
       "    <tr style=\"text-align: right;\">\n",
       "      <th></th>\n",
       "      <th>userId</th>\n",
       "      <th>Churn</th>\n",
       "      <th>obsDays</th>\n",
       "      <th>nSongs</th>\n",
       "      <th>nThumbsUp</th>\n",
       "      <th>nThumbsDown</th>\n",
       "      <th>nUpgrade</th>\n",
       "      <th>nDowngrade</th>\n",
       "      <th>nAddFriend</th>\n",
       "      <th>nAddPlaylist</th>\n",
       "      <th>...</th>\n",
       "      <th>avgDailySongs</th>\n",
       "      <th>avgDailyThumbsUp</th>\n",
       "      <th>avgDailyThumbsDown</th>\n",
       "      <th>avgDailyUpgrade</th>\n",
       "      <th>avgDailyDowngrade</th>\n",
       "      <th>avgDailyAddFriend</th>\n",
       "      <th>avgDailyAddPlaylist</th>\n",
       "      <th>avgDailyAdvert</th>\n",
       "      <th>avgDailyHelp</th>\n",
       "      <th>avgDailyError</th>\n",
       "    </tr>\n",
       "  </thead>\n",
       "  <tbody>\n",
       "    <tr>\n",
       "      <th>0</th>\n",
       "      <td>1000280</td>\n",
       "      <td>1</td>\n",
       "      <td>43.958148</td>\n",
       "      <td>1022</td>\n",
       "      <td>53</td>\n",
       "      <td>33</td>\n",
       "      <td>10</td>\n",
       "      <td>4</td>\n",
       "      <td>14</td>\n",
       "      <td>25</td>\n",
       "      <td>...</td>\n",
       "      <td>23.249387</td>\n",
       "      <td>1.205692</td>\n",
       "      <td>0.750714</td>\n",
       "      <td>0.227489</td>\n",
       "      <td>0.090996</td>\n",
       "      <td>0.318485</td>\n",
       "      <td>0.568723</td>\n",
       "      <td>1.683419</td>\n",
       "      <td>0.181991</td>\n",
       "      <td>0.068247</td>\n",
       "    </tr>\n",
       "  </tbody>\n",
       "</table>\n",
       "<p>1 rows × 25 columns</p>\n",
       "</div>"
      ],
      "text/plain": [
       "    userId  Churn    obsDays  nSongs  nThumbsUp  nThumbsDown  nUpgrade  \\\n",
       "0  1000280      1  43.958148    1022         53           33        10   \n",
       "\n",
       "   nDowngrade  nAddFriend  nAddPlaylist  ...  avgDailySongs  avgDailyThumbsUp  \\\n",
       "0           4          14            25  ...      23.249387          1.205692   \n",
       "\n",
       "   avgDailyThumbsDown  avgDailyUpgrade  avgDailyDowngrade  avgDailyAddFriend  \\\n",
       "0            0.750714         0.227489           0.090996           0.318485   \n",
       "\n",
       "   avgDailyAddPlaylist  avgDailyAdvert  avgDailyHelp  avgDailyError  \n",
       "0             0.568723        1.683419      0.181991       0.068247  \n",
       "\n",
       "[1 rows x 25 columns]"
      ]
     },
     "execution_count": 3,
     "metadata": {},
     "output_type": "execute_result"
    }
   ],
   "source": [
    "df=pd.read_csv(INPUT_FIlE)\n",
    "df.head(1)"
   ]
  },
  {
   "cell_type": "markdown",
   "id": "29387935",
   "metadata": {
    "papermill": {
     "duration": 0.011408,
     "end_time": "2022-01-02T05:07:08.264858",
     "exception": false,
     "start_time": "2022-01-02T05:07:08.253450",
     "status": "completed"
    },
    "tags": []
   },
   "source": [
    "### Exploratory Data Analysis\n",
    "Counting number of values for null. 100% of data is available."
   ]
  },
  {
   "cell_type": "code",
   "execution_count": 4,
   "id": "f25f70ee",
   "metadata": {
    "execution": {
     "iopub.execute_input": "2022-01-02T05:07:08.293987Z",
     "iopub.status.busy": "2022-01-02T05:07:08.290860Z",
     "iopub.status.idle": "2022-01-02T05:07:08.307668Z",
     "shell.execute_reply": "2022-01-02T05:07:08.307151Z",
     "shell.execute_reply.started": "2022-01-02T04:37:17.993078Z"
    },
    "papermill": {
     "duration": 0.031175,
     "end_time": "2022-01-02T05:07:08.307811",
     "exception": false,
     "start_time": "2022-01-02T05:07:08.276636",
     "status": "completed"
    },
    "tags": []
   },
   "outputs": [
    {
     "data": {
      "text/html": [
       "<div>\n",
       "<style scoped>\n",
       "    .dataframe tbody tr th:only-of-type {\n",
       "        vertical-align: middle;\n",
       "    }\n",
       "\n",
       "    .dataframe tbody tr th {\n",
       "        vertical-align: top;\n",
       "    }\n",
       "\n",
       "    .dataframe thead th {\n",
       "        text-align: right;\n",
       "    }\n",
       "</style>\n",
       "<table border=\"1\" class=\"dataframe\">\n",
       "  <thead>\n",
       "    <tr style=\"text-align: right;\">\n",
       "      <th></th>\n",
       "      <th>index</th>\n",
       "      <th>missing</th>\n",
       "    </tr>\n",
       "  </thead>\n",
       "  <tbody>\n",
       "    <tr>\n",
       "      <th>0</th>\n",
       "      <td>userId</td>\n",
       "      <td>0</td>\n",
       "    </tr>\n",
       "    <tr>\n",
       "      <th>1</th>\n",
       "      <td>Churn</td>\n",
       "      <td>0</td>\n",
       "    </tr>\n",
       "    <tr>\n",
       "      <th>2</th>\n",
       "      <td>obsDays</td>\n",
       "      <td>0</td>\n",
       "    </tr>\n",
       "    <tr>\n",
       "      <th>3</th>\n",
       "      <td>nSongs</td>\n",
       "      <td>0</td>\n",
       "    </tr>\n",
       "    <tr>\n",
       "      <th>4</th>\n",
       "      <td>nThumbsUp</td>\n",
       "      <td>0</td>\n",
       "    </tr>\n",
       "    <tr>\n",
       "      <th>5</th>\n",
       "      <td>nThumbsDown</td>\n",
       "      <td>0</td>\n",
       "    </tr>\n",
       "    <tr>\n",
       "      <th>6</th>\n",
       "      <td>nUpgrade</td>\n",
       "      <td>0</td>\n",
       "    </tr>\n",
       "    <tr>\n",
       "      <th>7</th>\n",
       "      <td>nDowngrade</td>\n",
       "      <td>0</td>\n",
       "    </tr>\n",
       "    <tr>\n",
       "      <th>8</th>\n",
       "      <td>nAddFriend</td>\n",
       "      <td>0</td>\n",
       "    </tr>\n",
       "    <tr>\n",
       "      <th>9</th>\n",
       "      <td>nAddPlaylist</td>\n",
       "      <td>0</td>\n",
       "    </tr>\n",
       "    <tr>\n",
       "      <th>10</th>\n",
       "      <td>nAdvert</td>\n",
       "      <td>0</td>\n",
       "    </tr>\n",
       "    <tr>\n",
       "      <th>11</th>\n",
       "      <td>nHelp</td>\n",
       "      <td>0</td>\n",
       "    </tr>\n",
       "    <tr>\n",
       "      <th>12</th>\n",
       "      <td>nError</td>\n",
       "      <td>0</td>\n",
       "    </tr>\n",
       "    <tr>\n",
       "      <th>13</th>\n",
       "      <td>registDuration</td>\n",
       "      <td>0</td>\n",
       "    </tr>\n",
       "    <tr>\n",
       "      <th>14</th>\n",
       "      <td>avgSessionDuration</td>\n",
       "      <td>0</td>\n",
       "    </tr>\n",
       "    <tr>\n",
       "      <th>15</th>\n",
       "      <td>avgDailySongs</td>\n",
       "      <td>0</td>\n",
       "    </tr>\n",
       "    <tr>\n",
       "      <th>16</th>\n",
       "      <td>avgDailyThumbsUp</td>\n",
       "      <td>0</td>\n",
       "    </tr>\n",
       "    <tr>\n",
       "      <th>17</th>\n",
       "      <td>avgDailyThumbsDown</td>\n",
       "      <td>0</td>\n",
       "    </tr>\n",
       "    <tr>\n",
       "      <th>18</th>\n",
       "      <td>avgDailyUpgrade</td>\n",
       "      <td>0</td>\n",
       "    </tr>\n",
       "    <tr>\n",
       "      <th>19</th>\n",
       "      <td>avgDailyDowngrade</td>\n",
       "      <td>0</td>\n",
       "    </tr>\n",
       "    <tr>\n",
       "      <th>20</th>\n",
       "      <td>avgDailyAddFriend</td>\n",
       "      <td>0</td>\n",
       "    </tr>\n",
       "    <tr>\n",
       "      <th>21</th>\n",
       "      <td>avgDailyAddPlaylist</td>\n",
       "      <td>0</td>\n",
       "    </tr>\n",
       "    <tr>\n",
       "      <th>22</th>\n",
       "      <td>avgDailyAdvert</td>\n",
       "      <td>0</td>\n",
       "    </tr>\n",
       "    <tr>\n",
       "      <th>23</th>\n",
       "      <td>avgDailyHelp</td>\n",
       "      <td>0</td>\n",
       "    </tr>\n",
       "    <tr>\n",
       "      <th>24</th>\n",
       "      <td>avgDailyError</td>\n",
       "      <td>0</td>\n",
       "    </tr>\n",
       "  </tbody>\n",
       "</table>\n",
       "</div>"
      ],
      "text/plain": [
       "                  index  missing\n",
       "0                userId        0\n",
       "1                 Churn        0\n",
       "2               obsDays        0\n",
       "3                nSongs        0\n",
       "4             nThumbsUp        0\n",
       "5           nThumbsDown        0\n",
       "6              nUpgrade        0\n",
       "7            nDowngrade        0\n",
       "8            nAddFriend        0\n",
       "9          nAddPlaylist        0\n",
       "10              nAdvert        0\n",
       "11                nHelp        0\n",
       "12               nError        0\n",
       "13       registDuration        0\n",
       "14   avgSessionDuration        0\n",
       "15        avgDailySongs        0\n",
       "16     avgDailyThumbsUp        0\n",
       "17   avgDailyThumbsDown        0\n",
       "18      avgDailyUpgrade        0\n",
       "19    avgDailyDowngrade        0\n",
       "20    avgDailyAddFriend        0\n",
       "21  avgDailyAddPlaylist        0\n",
       "22       avgDailyAdvert        0\n",
       "23         avgDailyHelp        0\n",
       "24        avgDailyError        0"
      ]
     },
     "execution_count": 4,
     "metadata": {},
     "output_type": "execute_result"
    }
   ],
   "source": [
    "df.isna().sum().reset_index(name=\"missing\")"
   ]
  },
  {
   "cell_type": "markdown",
   "id": "667220a3",
   "metadata": {
    "papermill": {
     "duration": 0.011639,
     "end_time": "2022-01-02T05:07:08.331990",
     "exception": false,
     "start_time": "2022-01-02T05:07:08.320351",
     "status": "completed"
    },
    "tags": []
   },
   "source": [
    "#No of churn\n",
    "~17500 users have not churned and 5000 users have churned. \n",
    "Churn numbers are around 20% and they are significant."
   ]
  },
  {
   "cell_type": "code",
   "execution_count": 5,
   "id": "12dd5ef8",
   "metadata": {
    "execution": {
     "iopub.execute_input": "2022-01-02T05:07:08.361211Z",
     "iopub.status.busy": "2022-01-02T05:07:08.360542Z",
     "iopub.status.idle": "2022-01-02T05:07:08.653632Z",
     "shell.execute_reply": "2022-01-02T05:07:08.654115Z",
     "shell.execute_reply.started": "2022-01-02T04:50:50.409111Z"
    },
    "papermill": {
     "duration": 0.310256,
     "end_time": "2022-01-02T05:07:08.654278",
     "exception": false,
     "start_time": "2022-01-02T05:07:08.344022",
     "status": "completed"
    },
    "tags": []
   },
   "outputs": [
    {
     "data": {
      "image/png": "[encoded data removed]",
      "text/plain": [
       "<Figure size 576x576 with 1 Axes>"
      ]
     },
     "metadata": {
      "needs_background": "light"
     },
     "output_type": "display_data"
    }
   ],
   "source": [
    "df.hist(column=\"Churn\",        # Column to plot\n",
    "              figsize=(8,8),         # Plot size\n",
    "              color=\"blue\");         # Plot color"
   ]
  },
  {
   "cell_type": "markdown",
   "id": "0f192834",
   "metadata": {
    "papermill": {
     "duration": 0.012292,
     "end_time": "2022-01-02T05:07:08.679200",
     "exception": false,
     "start_time": "2022-01-02T05:07:08.666908",
     "status": "completed"
    },
    "tags": []
   },
   "source": [
    "obsDays for non-churn user is almost 60. Using this feature will lead to almost data leakage and model might end up prediciting all obsdays with 60 days of observation as Non-churn. Hence, we will drop this feature from models."
   ]
  },
  {
   "cell_type": "code",
   "execution_count": 6,
   "id": "1f624a7e",
   "metadata": {
    "execution": {
     "iopub.execute_input": "2022-01-02T05:07:08.707839Z",
     "iopub.status.busy": "2022-01-02T05:07:08.707213Z",
     "iopub.status.idle": "2022-01-02T05:07:09.183980Z",
     "shell.execute_reply": "2022-01-02T05:07:09.184474Z",
     "shell.execute_reply.started": "2022-01-02T04:57:03.732352Z"
    },
    "papermill": {
     "duration": 0.492894,
     "end_time": "2022-01-02T05:07:09.184663",
     "exception": false,
     "start_time": "2022-01-02T05:07:08.691769",
     "status": "completed"
    },
    "tags": []
   },
   "outputs": [
    {
     "data": {
      "image/png": "[encoded data removed]",
      "text/plain": [
       "<Figure size 576x576 with 2 Axes>"
      ]
     },
     "metadata": {
      "needs_background": "light"
     },
     "output_type": "display_data"
    }
   ],
   "source": [
    "df.hist(column=\"obsDays\", by='Churn',    \n",
    "              figsize=(8,8),        \n",
    "              color=\"blue\");         "
   ]
  },
  {
   "cell_type": "markdown",
   "id": "fbd3b1c9",
   "metadata": {
    "papermill": {
     "duration": 0.013445,
     "end_time": "2022-01-02T05:07:09.211685",
     "exception": false,
     "start_time": "2022-01-02T05:07:09.198240",
     "status": "completed"
    },
    "tags": []
   },
   "source": [
    "avgDailySongs for non churned users is 3x greater than churned users."
   ]
  },
  {
   "cell_type": "code",
   "execution_count": 7,
   "id": "82966e34",
   "metadata": {
    "execution": {
     "iopub.execute_input": "2022-01-02T05:07:09.244837Z",
     "iopub.status.busy": "2022-01-02T05:07:09.244157Z",
     "iopub.status.idle": "2022-01-02T05:07:09.606747Z",
     "shell.execute_reply": "2022-01-02T05:07:09.607237Z",
     "shell.execute_reply.started": "2022-01-02T04:59:04.641575Z"
    },
    "papermill": {
     "duration": 0.381826,
     "end_time": "2022-01-02T05:07:09.607427",
     "exception": false,
     "start_time": "2022-01-02T05:07:09.225601",
     "status": "completed"
    },
    "tags": []
   },
   "outputs": [
    {
     "data": {
      "image/png": "[encoded data removed]",
      "text/plain": [
       "<Figure size 576x576 with 2 Axes>"
      ]
     },
     "metadata": {
      "needs_background": "light"
     },
     "output_type": "display_data"
    }
   ],
   "source": [
    "df.hist(column=\"avgDailySongs\", by='Churn',    \n",
    "              figsize=(8,8),        \n",
    "              color=\"blue\");   \n",
    "#avgSessionDuration"
   ]
  },
  {
   "cell_type": "markdown",
   "id": "980ee4d3",
   "metadata": {
    "papermill": {
     "duration": 0.013628,
     "end_time": "2022-01-02T05:07:09.635319",
     "exception": false,
     "start_time": "2022-01-02T05:07:09.621691",
     "status": "completed"
    },
    "tags": []
   },
   "source": [
    "However, session duration is lower and average ads played  is higher for churned users."
   ]
  },
  {
   "cell_type": "code",
   "execution_count": 8,
   "id": "e4d3a992",
   "metadata": {
    "execution": {
     "iopub.execute_input": "2022-01-02T05:07:09.669227Z",
     "iopub.status.busy": "2022-01-02T05:07:09.668495Z",
     "iopub.status.idle": "2022-01-02T05:07:10.030054Z",
     "shell.execute_reply": "2022-01-02T05:07:10.029484Z",
     "shell.execute_reply.started": "2022-01-02T05:04:13.747904Z"
    },
    "papermill": {
     "duration": 0.380774,
     "end_time": "2022-01-02T05:07:10.030195",
     "exception": false,
     "start_time": "2022-01-02T05:07:09.649421",
     "status": "completed"
    },
    "tags": []
   },
   "outputs": [
    {
     "data": {
      "image/png": "[encoded data removed]",
      "text/plain": [
       "<Figure size 576x576 with 2 Axes>"
      ]
     },
     "metadata": {
      "needs_background": "light"
     },
     "output_type": "display_data"
    }
   ],
   "source": [
    "df.hist(column=\"avgDailyAdvert\", by='Churn',    \n",
    "              figsize=(8,8),        \n",
    "              color=\"blue\");\n",
    "#avgSessionDuration\""
   ]
  },
  {
   "cell_type": "code",
   "execution_count": 9,
   "id": "4403c478",
   "metadata": {
    "execution": {
     "iopub.execute_input": "2022-01-02T05:07:10.067931Z",
     "iopub.status.busy": "2022-01-02T05:07:10.067278Z",
     "iopub.status.idle": "2022-01-02T05:07:10.422777Z",
     "shell.execute_reply": "2022-01-02T05:07:10.423238Z",
     "shell.execute_reply.started": "2022-01-02T05:05:20.182469Z"
    },
    "papermill": {
     "duration": 0.376457,
     "end_time": "2022-01-02T05:07:10.423412",
     "exception": false,
     "start_time": "2022-01-02T05:07:10.046955",
     "status": "completed"
    },
    "tags": []
   },
   "outputs": [
    {
     "data": {
      "image/png": "[encoded data removed]",
      "text/plain": [
       "<Figure size 576x576 with 2 Axes>"
      ]
     },
     "metadata": {
      "needs_background": "light"
     },
     "output_type": "display_data"
    }
   ],
   "source": [
    "df.hist(column=\"avgSessionDuration\", by='Churn',    \n",
    "              figsize=(8,8),        \n",
    "              color=\"blue\");"
   ]
  }
 ],
 "metadata": {
  "kernelspec": {
   "display_name": "Python 3",
   "language": "python",
   "name": "python3"
  },
  "language_info": {
   "codemirror_mode": {
    "name": "ipython",
    "version": 3
   },
   "file_extension": ".py",
   "mimetype": "text/x-python",
   "name": "python",
   "nbconvert_exporter": "python",
   "pygments_lexer": "ipython3",
   "version": "3.7.12"
  },
  "papermill": {
   "default_parameters": {},
   "duration": 12.958302,
   "end_time": "2022-01-02T05:07:11.050233",
   "environment_variables": {},
   "exception": null,
   "input_path": "__notebook__.ipynb",
   "output_path": "__notebook__.ipynb",
   "parameters": {},
   "start_time": "2022-01-02T05:06:58.091931",
   "version": "2.3.3"
  }
 },
 "nbformat": 4,
 "nbformat_minor": 5
}
